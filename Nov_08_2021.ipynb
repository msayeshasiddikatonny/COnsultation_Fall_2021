{
  "nbformat": 4,
  "nbformat_minor": 0,
  "metadata": {
    "colab": {
      "name": " Nov_08_2021.ipynb",
      "provenance": [],
      "authorship_tag": "ABX9TyNnlD1Go8Y/1whEVgPT0JI3",
      "include_colab_link": true
    },
    "kernelspec": {
      "name": "python3",
      "display_name": "Python 3"
    },
    "language_info": {
      "name": "python"
    }
  },
  "cells": [
    {
      "cell_type": "markdown",
      "metadata": {
        "id": "view-in-github",
        "colab_type": "text"
      },
      "source": [
        "<a href=\"https://colab.research.google.com/github/msayeshasiddikatonny/COnsultation_Fall_2021/blob/main/Nov_08_2021.ipynb\" target=\"_parent\"><img src=\"https://colab.research.google.com/assets/colab-badge.svg\" alt=\"Open In Colab\"/></a>"
      ]
    },
    {
      "cell_type": "code",
      "metadata": {
        "colab": {
          "base_uri": "https://localhost:8080/"
        },
        "id": "Ew0GqB-i9zWY",
        "outputId": "0fed5fb3-854d-4cd2-ca5b-b771e6c38a05"
      },
      "source": [
        "class ParcelKoro:\n",
        "    def __init__(self,name='No name set',pro_wei=0):\n",
        "        self.name=name\n",
        "        self.product_weight=pro_wei\n",
        "        self.fee=0\n",
        "\n",
        "    def calculateFee(self,location=None):\n",
        "        if location != None:\n",
        "            self.fee=(self.product_weight*20)+100\n",
        "        else:\n",
        "            self.fee=(self.product_weight*20)+50\n",
        "\n",
        "    def printDetails(self):\n",
        "        print('Customer name:',self.name)\n",
        "        print('Product Weight:',self.product_weight)\n",
        "        print('Total fee:',self.fee)\n",
        "\n",
        "print(\"**********************\")\n",
        "p1 = ParcelKoro()\n",
        "p1.calculateFee()\n",
        "p1.printDetails()\n",
        "print(\"**********************\")\n",
        "p2 = ParcelKoro('Bob The Builder')\n",
        "p2.calculateFee()\n",
        "p2.printDetails()\n",
        "print(\"----------------------------\")\n",
        "p2.product_weight = 15\n",
        "p2.calculateFee()\n",
        "p2.printDetails()\n",
        "print(\"**********************\")\n",
        "p3 = ParcelKoro('Dora The Explorer', 10)\n",
        "p3.calculateFee('Dhanmondi')\n",
        "p3.printDetails()"
      ],
      "execution_count": 16,
      "outputs": [
        {
          "output_type": "stream",
          "name": "stdout",
          "text": [
            "**********************\n",
            "Customer name: No name set\n",
            "Product Weight: 0\n",
            "Total fee: 50\n",
            "**********************\n",
            "Customer name: Bob The Builder\n",
            "Product Weight: 0\n",
            "Total fee: 50\n",
            "----------------------------\n",
            "Customer name: Bob The Builder\n",
            "Product Weight: 15\n",
            "Total fee: 350\n",
            "**********************\n",
            "Customer name: Dora The Explorer\n",
            "Product Weight: 10\n",
            "Total fee: 300\n"
          ]
        }
      ]
    },
    {
      "cell_type": "code",
      "metadata": {
        "colab": {
          "base_uri": "https://localhost:8080/"
        },
        "id": "RNW-z8et-zBF",
        "outputId": "c913cc11-4027-4dde-aa2f-8bc6470dd117"
      },
      "source": [
        "class ParcelKoro:\n",
        "    def __init__(self,name='No name set',pro_wei=0):\n",
        "        self.name=name\n",
        "        self.product_weight=pro_wei\n",
        "        self.fee=0\n",
        "         \n",
        "    def calculateFee(self,location=None):\n",
        "      \n",
        "        if location != None:\n",
        "            self.fee=(self.product_weight*20)+100\n",
        "        else:\n",
        "            self.fee=(self.product_weight*20)+50\n",
        "\n",
        "     \n",
        "\n",
        "    def printDetails(self):\n",
        "        print('Customer name:',self.name)\n",
        "        print('Product Weight:',self.product_weight)\n",
        "        print('Total fee:',self.fee)\n",
        "\n",
        "print(\"**********************\")\n",
        "p1 = ParcelKoro()\n",
        "p1.calculateFee()\n",
        "p1.printDetails()\n",
        "print(\"**********************\")\n",
        "p2 = ParcelKoro('Bob The Builder')\n",
        "p2.calculateFee()\n",
        "p2.printDetails()\n",
        "print(\"----------------------------\")\n",
        "p2.product_weight = 15\n",
        "p2.calculateFee()\n",
        "p2.printDetails()\n",
        "print(\"**********************\")\n",
        "p3 = ParcelKoro('Dora The Explorer', 10)\n",
        "p3.calculateFee('Dhanmondi')\n",
        "p3.printDetails()"
      ],
      "execution_count": 15,
      "outputs": [
        {
          "output_type": "stream",
          "name": "stdout",
          "text": [
            "**********************\n",
            "Customer name: No name set\n",
            "Product Weight: 0\n",
            "Total fee: 50\n",
            "**********************\n",
            "Customer name: Bob The Builder\n",
            "Product Weight: 0\n",
            "Total fee: 50\n",
            "----------------------------\n",
            "Customer name: Bob The Builder\n",
            "Product Weight: 15\n",
            "Total fee: 350\n",
            "**********************\n",
            "Customer name: Dora The Explorer\n",
            "Product Weight: 10\n",
            "Total fee: 300\n"
          ]
        }
      ]
    },
    {
      "cell_type": "code",
      "metadata": {
        "colab": {
          "base_uri": "https://localhost:8080/"
        },
        "id": "nrRsjxau-4Uh",
        "outputId": "11e1f625-e6e9-4bef-cdae-1ef498bc8154"
      },
      "source": [
        "class ParcelKoro:\n",
        "\n",
        "    def __init__(self, product_name=None, product_weight=0):\n",
        "        self.product_name = product_name\n",
        "        self.product_weight = product_weight\n",
        "        self.total = 0\n",
        "        self.location = None\n",
        "\n",
        "    def calculateFee(self, location=None):\n",
        "\n",
        "        delivery_charge = 0\n",
        "\n",
        "        if self.product_weight != 0:\n",
        "            if location == None:\n",
        "                delivery_charge = 50\n",
        "            else:\n",
        "                delivery_charge = 100\n",
        "\n",
        "        self.total = (self.product_weight * 20) + delivery_charge\n",
        "\n",
        "    def printDetails(self):\n",
        "\n",
        "        if self.product_name == None:\n",
        "            print(f\"Customer Name: No name set\\nProduct Weight: {self.product_weight}\\nTotal fee: {self.total}\")\n",
        "        else:\n",
        "            print(f\"Customer Name: {self.product_name}\\nProduct Weight: {self.product_weight}\\nTotal fee: {self.total}\")\n",
        "\n",
        "\n",
        "print(\"**********************\")\n",
        "p1 = ParcelKoro()\n",
        "p1.calculateFee()\n",
        "p1.printDetails()\n",
        "print(\"**********************\")\n",
        "p2 = ParcelKoro('Bob The Builder')\n",
        "p2.calculateFee()\n",
        "p2.printDetails()\n",
        "print(\"----------------------------\")\n",
        "p2.product_weight = 15\n",
        "p2.calculateFee()\n",
        "p2.printDetails()\n",
        "print(\"**********************\")\n",
        "p3 = ParcelKoro('Dora The Explorer', 10)\n",
        "p3.calculateFee('Dhanmondi')\n",
        "p3.printDetails()"
      ],
      "execution_count": 9,
      "outputs": [
        {
          "output_type": "stream",
          "name": "stdout",
          "text": [
            "**********************\n",
            "Customer Name: No name set\n",
            "Product Weight: 0\n",
            "Total fee: 0\n",
            "**********************\n",
            "Customer Name: Bob The Builder\n",
            "Product Weight: 0\n",
            "Total fee: 0\n",
            "----------------------------\n",
            "Customer Name: Bob The Builder\n",
            "Product Weight: 15\n",
            "Total fee: 350\n",
            "**********************\n",
            "Customer Name: Dora The Explorer\n",
            "Product Weight: 10\n",
            "Total fee: 300\n"
          ]
        }
      ]
    }
  ]
}
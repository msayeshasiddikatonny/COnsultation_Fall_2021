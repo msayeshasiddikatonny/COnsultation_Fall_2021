{
  "nbformat": 4,
  "nbformat_minor": 0,
  "metadata": {
    "colab": {
      "name": "Nov_03_2021.ipynb",
      "provenance": [],
      "authorship_tag": "ABX9TyOviP04OabUS06bcxEPGg0C",
      "include_colab_link": true
    },
    "kernelspec": {
      "name": "python3",
      "display_name": "Python 3"
    },
    "language_info": {
      "name": "python"
    }
  },
  "cells": [
    {
      "cell_type": "markdown",
      "metadata": {
        "id": "view-in-github",
        "colab_type": "text"
      },
      "source": [
        "<a href=\"https://colab.research.google.com/github/msayeshasiddikatonny/COnsultation_Fall_2021/blob/main/Nov_03_2021.ipynb\" target=\"_parent\"><img src=\"https://colab.research.google.com/assets/colab-badge.svg\" alt=\"Open In Colab\"/></a>"
      ]
    },
    {
      "cell_type": "code",
      "metadata": {
        "colab": {
          "base_uri": "https://localhost:8080/"
        },
        "id": "1e8izdGPn4EL",
        "outputId": "d55dc202-a444-4aef-bc68-b77149d6118e"
      },
      "source": [
        "# d)18,-27, 36,-45,54,-63\n",
        "\n",
        "for i in range(2,8):\n",
        "  if i==7:\n",
        "     n=9*i*(-1)\n",
        "     print(n,end='')\n",
        "  else:#23456\n",
        "    if i%2==0:\n",
        "      n=9*i\n",
        "\n",
        "      print(n,end=',')\n",
        "    else:\n",
        "\n",
        "     n=9*i*(-1)\n",
        "\n",
        "     print(n,end=',')\n",
        "\n"
      ],
      "execution_count": null,
      "outputs": [
        {
          "output_type": "stream",
          "name": "stdout",
          "text": [
            "18,-27,36,-45,54,-63"
          ]
        }
      ]
    },
    {
      "cell_type": "code",
      "metadata": {
        "colab": {
          "base_uri": "https://localhost:8080/"
        },
        "id": "QTK73CXiqCtF",
        "outputId": "145f23a6-484f-449b-f6e9-37fc4e9f2031"
      },
      "source": [
        "# 42649\n",
        "\n",
        "sum=0\n",
        "for i in range(1,601):\n",
        "  if (i%7==0 or i%9==0):\n",
        "    sum=sum+i\n",
        "print(sum)"
      ],
      "execution_count": null,
      "outputs": [
        {
          "output_type": "stream",
          "name": "stdout",
          "text": [
            "42649\n"
          ]
        }
      ]
    },
    {
      "cell_type": "code",
      "metadata": {
        "colab": {
          "base_uri": "https://localhost:8080/"
        },
        "id": "WX63kOoWrOU7",
        "outputId": "3ec56a70-4d27-40a6-cab5-55fa38b61573"
      },
      "source": [
        "n= int(input(\"enter a number:\"))\n",
        "count=0\n",
        "while n>0:\n",
        "  n=n//10\n",
        "  #print(\"value of n=\",n)\n",
        "  count=count+1\n",
        "  #print('the count value',count)\n",
        "print(\"total count value\", count)"
      ],
      "execution_count": null,
      "outputs": [
        {
          "output_type": "stream",
          "name": "stdout",
          "text": [
            "enter a number:5643\n",
            "total count value 4\n"
          ]
        }
      ]
    },
    {
      "cell_type": "code",
      "metadata": {
        "colab": {
          "base_uri": "https://localhost:8080/",
          "height": 262
        },
        "id": "t4q9QkITr5sX",
        "outputId": "b3b4eb93-88ef-441f-8e5a-377506f7882e"
      },
      "source": [
        "number=int(input(\"enter a value :\"))\n",
        "count=0\n",
        "while number>0:\n",
        "    x=num2//10(count-1)\n",
        "    if number>10:\n",
        "         print(x, end=\",\")\n",
        "    else:\n",
        "       print(x,end=\" \")\n",
        "       num2=num2%10(count-1)\n",
        "\n"
      ],
      "execution_count": null,
      "outputs": [
        {
          "name": "stdout",
          "output_type": "stream",
          "text": [
            "enter a value :3641\n"
          ]
        },
        {
          "output_type": "error",
          "ename": "TypeError",
          "evalue": "ignored",
          "traceback": [
            "\u001b[0;31m---------------------------------------------------------------------------\u001b[0m",
            "\u001b[0;31mTypeError\u001b[0m                                 Traceback (most recent call last)",
            "\u001b[0;32m<ipython-input-10-b4f850cb0d86>\u001b[0m in \u001b[0;36m<module>\u001b[0;34m()\u001b[0m\n\u001b[1;32m      5\u001b[0m \u001b[0mcount\u001b[0m\u001b[0;34m=\u001b[0m\u001b[0;36m5\u001b[0m\u001b[0;34m\u001b[0m\u001b[0;34m\u001b[0m\u001b[0m\n\u001b[1;32m      6\u001b[0m \u001b[0;32mwhile\u001b[0m \u001b[0mnumber\u001b[0m\u001b[0;34m>\u001b[0m\u001b[0;36m0\u001b[0m\u001b[0;34m:\u001b[0m\u001b[0;34m\u001b[0m\u001b[0;34m\u001b[0m\u001b[0m\n\u001b[0;32m----> 7\u001b[0;31m     \u001b[0mx\u001b[0m\u001b[0;34m=\u001b[0m\u001b[0mnum2\u001b[0m\u001b[0;34m//\u001b[0m\u001b[0;36m10\u001b[0m\u001b[0;34m(\u001b[0m\u001b[0mcount\u001b[0m\u001b[0;34m-\u001b[0m\u001b[0;36m1\u001b[0m\u001b[0;34m)\u001b[0m\u001b[0;34m\u001b[0m\u001b[0;34m\u001b[0m\u001b[0m\n\u001b[0m\u001b[1;32m      8\u001b[0m     \u001b[0;32mif\u001b[0m \u001b[0mnumber\u001b[0m\u001b[0;34m>\u001b[0m\u001b[0;36m10\u001b[0m\u001b[0;34m:\u001b[0m\u001b[0;34m\u001b[0m\u001b[0;34m\u001b[0m\u001b[0m\n\u001b[1;32m      9\u001b[0m          \u001b[0mprint\u001b[0m\u001b[0;34m(\u001b[0m\u001b[0mx\u001b[0m\u001b[0;34m,\u001b[0m \u001b[0mend\u001b[0m\u001b[0;34m=\u001b[0m\u001b[0;34m\",\"\u001b[0m\u001b[0;34m)\u001b[0m\u001b[0;34m\u001b[0m\u001b[0;34m\u001b[0m\u001b[0m\n",
            "\u001b[0;31mTypeError\u001b[0m: 'int' object is not callable"
          ]
        }
      ]
    },
    {
      "cell_type": "code",
      "metadata": {
        "colab": {
          "base_uri": "https://localhost:8080/"
        },
        "id": "wx94EK6wslGH",
        "outputId": "f848bd66-9cba-415a-a41d-c5305c852338"
      },
      "source": [
        "num=input('enter a number')\n",
        "lenth=len(num)\n",
        "num=int(num)\n",
        "div=10**(lenth-1)\n",
        "'''\n",
        "32768 // 10000 = 3\n",
        "32768 % 10000 = 2768\n",
        "10000 // 10 = 1000\n",
        "'''\n",
        "s=''\n",
        "while num>0:\n",
        "   x=num//div\n",
        "   s+=str(x)+','\n",
        "   num=num%div\n",
        "   div=div//10\n",
        "print(s)\n",
        "print(s[0:-1])"
      ],
      "execution_count": null,
      "outputs": [
        {
          "output_type": "stream",
          "name": "stdout",
          "text": [
            "enter a number2356\n",
            "2,3,5,6,\n",
            "2,3,5,6\n"
          ]
        }
      ]
    },
    {
      "cell_type": "code",
      "metadata": {
        "colab": {
          "base_uri": "https://localhost:8080/"
        },
        "id": "FxfEY-acvY47",
        "outputId": "b0ccbbde-ce16-46de-f03e-ed3a042e1b64"
      },
      "source": [
        "num= int(input(\"Enter number:\"))\n",
        "num1=num\n",
        "count=0\n",
        "while (num>0):\n",
        "    num=num//10#56431 \n",
        "    count=count+1\n",
        "count=count-1 \n",
        " \n",
        "while (num1>0):\n",
        "  if num1>10:\n",
        "    print(num1//10**(count),end=',') \n",
        "  else:\n",
        "    print(num1//10**(count),end='')\n",
        "  num1=num1%10**count\n",
        "  count=count-1#4-1=3"
      ],
      "execution_count": null,
      "outputs": [
        {
          "output_type": "stream",
          "name": "stdout",
          "text": [
            "Enter number:56431\n",
            "5,6,4,3,1"
          ]
        }
      ]
    },
    {
      "cell_type": "code",
      "metadata": {
        "colab": {
          "base_uri": "https://localhost:8080/"
        },
        "id": "T3wQlz09wZzp",
        "outputId": "a5fe76bb-fa06-4dd4-ee48-b64c3155190a"
      },
      "source": [
        "print(10**4)"
      ],
      "execution_count": null,
      "outputs": [
        {
          "output_type": "stream",
          "name": "stdout",
          "text": [
            "10000\n"
          ]
        }
      ]
    },
    {
      "cell_type": "code",
      "metadata": {
        "colab": {
          "base_uri": "https://localhost:8080/"
        },
        "id": "hJGyk1tQzK_h",
        "outputId": "33333d51-4b1f-4ce1-af98-9319a6e3c66d"
      },
      "source": [
        "s=0\n",
        "for i in range(1,7):\n",
        "  s+=int(input('enter amount: '))\n",
        "\n",
        "if s%3==0:\n",
        "  result=(s*3)-s\n",
        "  print(result)\n",
        "else:\n",
        "  s+=100\n",
        "  print(s)\n"
      ],
      "execution_count": null,
      "outputs": [
        {
          "output_type": "stream",
          "name": "stdout",
          "text": [
            "enter amount: 1\n",
            "enter amount: 3\n",
            "enter amount: 5\n",
            "enter amount: 7\n",
            "enter amount: 9\n",
            "enter amount: 5\n",
            "60\n"
          ]
        }
      ]
    },
    {
      "cell_type": "code",
      "metadata": {
        "colab": {
          "base_uri": "https://localhost:8080/"
        },
        "id": "_9QQhq1O1Sa9",
        "outputId": "c0c4669a-958e-409d-9415-a3f92488363b"
      },
      "source": [
        "n=int(input('enter total digit'))\n",
        "even=0\n",
        "odd=0\n",
        "\n",
        "for i in range(1,n+1):\n",
        "  num=int(input('enter nid digit'))\n",
        "  if num%2==0:\n",
        "    even+=num\n",
        "  else:\n",
        "    odd+=num\n",
        "s=''\n",
        "if even!=0 and odd!=0:\n",
        "  s=\"UH\"+str(even)+str(odd)\n",
        "elif even==0 and odd!=0:\n",
        "  s=\"UH\"+str(odd)+str(odd)\n",
        "elif even!=0 and odd==0:\n",
        "  s=\"UH\"+str(even)+str(even)\n",
        "print(s)\n"
      ],
      "execution_count": null,
      "outputs": [
        {
          "output_type": "stream",
          "name": "stdout",
          "text": [
            "enter total digit10\n",
            "enter nid digit0\n",
            "enter nid digit1\n",
            "enter nid digit6\n",
            "enter nid digit7\n",
            "enter nid digit2\n",
            "enter nid digit4\n",
            "enter nid digit5\n",
            "enter nid digit8\n",
            "enter nid digit9\n",
            "enter nid digit5\n",
            "UH2027\n"
          ]
        }
      ]
    },
    {
      "cell_type": "code",
      "metadata": {
        "colab": {
          "base_uri": "https://localhost:8080/"
        },
        "id": "G1Hv4z883Kup",
        "outputId": "ae8e609f-a093-45a1-8020-35ac49dfe7c2"
      },
      "source": [
        "n=int(input())\n",
        "odd=0\n",
        "even=0\n",
        "for i in range(1,n+1): \n",
        "    m=int(input())\n",
        "    if m%2==0:\n",
        "        even+=m\n",
        "    else:\n",
        "        odd+=m\n",
        "\n",
        "if odd==0:\n",
        "    print(\"UH\"+str(even)+str(even))\n",
        "elif even==0:\n",
        "    print(\"UH\"+str(odd)+str(odd))\n",
        "else:\n",
        "    print(\"UH\"+str(even)+str(odd))"
      ],
      "execution_count": null,
      "outputs": [
        {
          "output_type": "stream",
          "name": "stdout",
          "text": [
            "10\n",
            "0\n",
            "1\n",
            "6\n",
            "7\n",
            "2\n",
            "4\n",
            "5\n",
            "8\n",
            "9\n",
            "5\n",
            "UH2027\n"
          ]
        }
      ]
    },
    {
      "cell_type": "code",
      "metadata": {
        "colab": {
          "base_uri": "https://localhost:8080/"
        },
        "id": "hDU4pxmT4hIM",
        "outputId": "8c3b0c9d-2cf7-475b-bd26-08fe9aea4cde"
      },
      "source": [
        "#todo\n",
        "user_input =int(input(\" Enter the number\"))\n",
        "divisor_count =0\n",
        "for divisor in range(1,user_input+1):\n",
        "\n",
        "    if(user_input%divisor==0):\n",
        "        if divisor==user_input:\n",
        "            print(divisor  )\n",
        "        else:\n",
        "            print(divisor , end=\" ,\")\n",
        "\n",
        "    divisor_count=divisor_count+1\n",
        "\n",
        "print(\"Total\", divisor_count , \"divisors\" , end=\" \")"
      ],
      "execution_count": null,
      "outputs": [
        {
          "output_type": "stream",
          "name": "stdout",
          "text": [
            " Enter the number6\n",
            "1 ,2 ,3 ,6\n",
            "Total 6 divisors "
          ]
        }
      ]
    },
    {
      "cell_type": "code",
      "metadata": {
        "colab": {
          "base_uri": "https://localhost:8080/"
        },
        "id": "3Hlu55W952og",
        "outputId": "f74f9244-7d70-4d1f-cebd-c60c526a9ef4"
      },
      "source": [
        " '''\n",
        " Write a Python code of a program that adds all numbers that are multiples of either 7 or 9 but not both, up to 600(including 600).\n",
        "\n",
        "Output: 39814\n",
        "'''\n",
        "#Todo\n",
        "result =0\n",
        "for num in range(1,601):\n",
        "\n",
        "    if (num%7==0 and num%9==0):\n",
        "     pass\n",
        "    elif (num%7==0 or num%9==0):\n",
        "            result =result+num\n",
        "\n",
        "print(result)"
      ],
      "execution_count": null,
      "outputs": [
        {
          "output_type": "stream",
          "name": "stdout",
          "text": [
            "39814\n"
          ]
        }
      ]
    },
    {
      "cell_type": "code",
      "metadata": {
        "colab": {
          "base_uri": "https://localhost:8080/"
        },
        "id": "Df00Nb5S6kEg",
        "outputId": "622e8c5d-2d7b-434d-ad8e-1f8f70a5452f"
      },
      "source": [
        "a=int(input(\"enter a number\"))\n",
        "while a>0:\n",
        "  if a<10:\n",
        "    dropout=a % 10\n",
        "    a=a//10\n",
        "    print(dropout,end=\" \")\n",
        "  else:\n",
        "    dropout=a % 10\n",
        "    a=a//10\n",
        "    print(dropout,end=\",\")"
      ],
      "execution_count": null,
      "outputs": [
        {
          "output_type": "stream",
          "name": "stdout",
          "text": [
            "enter a number32768\n",
            "8,6,7,2,3 "
          ]
        }
      ]
    },
    {
      "cell_type": "code",
      "metadata": {
        "colab": {
          "base_uri": "https://localhost:8080/"
        },
        "id": "SDIKGM837X8G",
        "outputId": "19c21e4e-dd8d-41aa-cb5c-7a026ff17ce1"
      },
      "source": [
        "a=int(input(\"enter a number\"))\n",
        "s=''\n",
        "while a>0:\n",
        "    dropout=a % 10\n",
        "    a=a//10\n",
        "    s+=str(dropout)+','\n",
        "print(s)\n",
        "print(s[0:-1])"
      ],
      "execution_count": null,
      "outputs": [
        {
          "output_type": "stream",
          "name": "stdout",
          "text": [
            "enter a number32768\n",
            "8,6,7,2,3,\n",
            "8,6,7,2,3\n"
          ]
        }
      ]
    },
    {
      "cell_type": "code",
      "metadata": {
        "colab": {
          "base_uri": "https://localhost:8080/"
        },
        "id": "xB9QIKJk7_Eg",
        "outputId": "327cb8fa-2ebd-4840-8c03-8c052c0a2540"
      },
      "source": [
        "#Todo\n",
        "Total =0\n",
        "odd_count =0\n",
        "\n",
        "for iteration in range(10):\n",
        "\n",
        "    user_input = int(input(\" \"))\n",
        "    if user_input%2==1:\n",
        "        Total=Total + user_input\n",
        "        odd_count=odd_count+1\n",
        "\n",
        " \n",
        "Average =Total/odd_count\n",
        "print(Total , Average)"
      ],
      "execution_count": null,
      "outputs": [
        {
          "output_type": "stream",
          "name": "stdout",
          "text": [
            " 1\n",
            " 2\n",
            " 3\n",
            " 4\n",
            " 5\n",
            " 6\n",
            " 7\n",
            " 8\n",
            " 9\n",
            " 10\n",
            "7.0\n"
          ]
        }
      ]
    },
    {
      "cell_type": "code",
      "metadata": {
        "colab": {
          "base_uri": "https://localhost:8080/"
        },
        "id": "h_VsJJNT9T7z",
        "outputId": "6182d0a2-3f8e-4fc7-d661-8cce94a0ce8b"
      },
      "source": [
        "num=int(input())\n",
        "\n",
        "if num < 4:\n",
        "    print(\"Invalid Input\")\n",
        "else:\n",
        "    if num%2==0:\n",
        "        for i in range(num):\n",
        "            for j in range(num):\n",
        "                if i == 0 or i == num - 1:\n",
        "                    print(\"#\", end=\"\")\n",
        "                elif j == (num / 2) - 1 or j == num / 2:#2 3\n",
        "                    print(\"#\", end=\"\")\n",
        "                else:\n",
        "                    print(\"&\", end=\"\")\n",
        "            print()\n",
        "    else:\n",
        "        for i in range(num):\n",
        "            for j in range(num):\n",
        "                if i == 0 or i == num - 1:\n",
        "                    print(\"#\", end=\"\")\n",
        "                elif j == (num // 2) - 1 or j == num // 2 or j== (num // 2)+1:#234\n",
        "                    print(\"#\", end=\"\")\n",
        "                else:\n",
        "                    print(\"&\", end=\"\")\n",
        "            print()"
      ],
      "execution_count": null,
      "outputs": [
        {
          "output_type": "stream",
          "name": "stdout",
          "text": [
            "7\n",
            "#######\n",
            "&&###&&\n",
            "&&###&&\n",
            "&&###&&\n",
            "&&###&&\n",
            "&&###&&\n",
            "#######\n"
          ]
        }
      ]
    },
    {
      "cell_type": "code",
      "metadata": {
        "colab": {
          "base_uri": "https://localhost:8080/"
        },
        "id": "W0eUaqeCCOPK",
        "outputId": "10f5391d-45c6-4460-f427-2ad8a82568cc"
      },
      "source": [
        "n=int(input())\n",
        "\n",
        "\n",
        "for i in range(1,n+1):\n",
        "  for j in range(1,n+1):\n",
        "    print('+',end='')\n",
        "  print()"
      ],
      "execution_count": null,
      "outputs": [
        {
          "output_type": "stream",
          "name": "stdout",
          "text": [
            "5\n",
            "+++++\n",
            "+++++\n",
            "+++++\n",
            "+++++\n",
            "+++++\n"
          ]
        }
      ]
    },
    {
      "cell_type": "code",
      "metadata": {
        "colab": {
          "base_uri": "https://localhost:8080/"
        },
        "id": "Hsxk2Kd5F0pV",
        "outputId": "1c7d1313-8528-49c3-bd04-6fc7c1332d5e"
      },
      "source": [
        "n=int(input())\n",
        "\n",
        "\n",
        "for row in range(1,n+1):\n",
        "  for col in range(1,row+1):\n",
        "    print(col,end='')\n",
        "  print()"
      ],
      "execution_count": null,
      "outputs": [
        {
          "output_type": "stream",
          "name": "stdout",
          "text": [
            "4\n",
            "1\n",
            "12\n",
            "123\n",
            "1234\n"
          ]
        }
      ]
    },
    {
      "cell_type": "code",
      "metadata": {
        "colab": {
          "base_uri": "https://localhost:8080/"
        },
        "id": "9LxMc-zhIGYh",
        "outputId": "a0a1eb32-af8e-4bf0-d1af-90bc9ed857e6"
      },
      "source": [
        "s='ayesha'\n",
        "n=int(input('enter num'))\n",
        "for i in range(1,n+1):\n",
        "  print(s)"
      ],
      "execution_count": null,
      "outputs": [
        {
          "output_type": "stream",
          "name": "stdout",
          "text": [
            "enter num5\n",
            "ayesha\n",
            "ayesha\n",
            "ayesha\n",
            "ayesha\n",
            "ayesha\n"
          ]
        }
      ]
    },
    {
      "cell_type": "code",
      "metadata": {
        "colab": {
          "base_uri": "https://localhost:8080/"
        },
        "id": "2FBpyBfRIZN3",
        "outputId": "a7f82248-53d7-4fa8-d00f-df07723e6dec"
      },
      "source": [
        "num= 10\n",
        "c=1\n",
        "x=2\n",
        "while c<=10:\n",
        "  print(c)\n",
        "  c+=x\n"
      ],
      "execution_count": null,
      "outputs": [
        {
          "output_type": "stream",
          "name": "stdout",
          "text": [
            "1\n",
            "3\n",
            "5\n",
            "7\n",
            "9\n"
          ]
        }
      ]
    }
  ]
}
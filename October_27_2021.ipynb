{
  "nbformat": 4,
  "nbformat_minor": 0,
  "metadata": {
    "colab": {
      "name": "October_27_2021.ipynb",
      "provenance": [],
      "authorship_tag": "ABX9TyPZ0GzWC+OoSyAl2ChO/q9y",
      "include_colab_link": true
    },
    "kernelspec": {
      "name": "python3",
      "display_name": "Python 3"
    },
    "language_info": {
      "name": "python"
    }
  },
  "cells": [
    {
      "cell_type": "markdown",
      "metadata": {
        "id": "view-in-github",
        "colab_type": "text"
      },
      "source": [
        "<a href=\"https://colab.research.google.com/github/msayeshasiddikatonny/COnsultation_Fall_2021/blob/main/October_27_2021.ipynb\" target=\"_parent\"><img src=\"https://colab.research.google.com/assets/colab-badge.svg\" alt=\"Open In Colab\"/></a>"
      ]
    },
    {
      "cell_type": "code",
      "metadata": {
        "colab": {
          "base_uri": "https://localhost:8080/"
        },
        "id": "WBTYRrq6uA-K",
        "outputId": "813508c3-2c89-4ef6-f894-f008598a7fe6"
      },
      "source": [
        "def chillox(order, place):\n",
        "    order_dic={'BBQ Chicken Cheese Burger': 250, 'Beef Burger':170, 'Naga Drums': 200}\n",
        "    meal_cost=0\n",
        "    tax=0\n",
        "    if place=='':\n",
        "        place='Mohakhali'\n",
        "    if order in order_dic:\n",
        "        meal_cost+=order_dic[order]\n",
        "        tax= float((order_dic[order])*(8/100))\n",
        "    total_price=0\n",
        "    if place=='Mohakhali':\n",
        "        total_price+=(meal_cost+tax+40)\n",
        "    else:\n",
        "        total_price+=(meal_cost+tax+60)\n",
        "    return total_price\n",
        "\n",
        "o= input(\"Enter meal:\")\n",
        "p= input(\"Enter place:(if Mohakhali then enter directly)\")\n",
        "chillox(o, p)"
      ],
      "execution_count": null,
      "outputs": [
        {
          "name": "stdout",
          "output_type": "stream",
          "text": [
            "Enter meal:Beef Burger\n",
            "Enter place:(if Mohakhali then enter directly)\n"
          ]
        },
        {
          "output_type": "execute_result",
          "data": {
            "text/plain": [
              "223.6"
            ]
          },
          "metadata": {},
          "execution_count": 2
        }
      ]
    }
  ]
}
{
  "nbformat": 4,
  "nbformat_minor": 0,
  "metadata": {
    "colab": {
      "name": "October_24_2021.ipynb",
      "provenance": [],
      "authorship_tag": "ABX9TyMfoq+YU2vrM1D5pjnnUXrO",
      "include_colab_link": true
    },
    "kernelspec": {
      "name": "python3",
      "display_name": "Python 3"
    },
    "language_info": {
      "name": "python"
    }
  },
  "cells": [
    {
      "cell_type": "markdown",
      "metadata": {
        "id": "view-in-github",
        "colab_type": "text"
      },
      "source": [
        "<a href=\"https://colab.research.google.com/github/msayeshasiddikatonny/COnsultation_Fall_2021/blob/main/October_24_2021.ipynb\" target=\"_parent\"><img src=\"https://colab.research.google.com/assets/colab-badge.svg\" alt=\"Open In Colab\"/></a>"
      ]
    },
    {
      "cell_type": "code",
      "metadata": {
        "colab": {
          "base_uri": "https://localhost:8080/"
        },
        "id": "MnKA9B9GfY8O",
        "outputId": "8fcac5e6-2c2a-4827-d3c7-d9dff3f63ab3"
      },
      "source": [
        "#d= input(\"enter a num\")\n",
        "d='5648564'\n",
        "lenth=len(d)\n",
        "div=10**(lenth-1) \n",
        "\n",
        "print(lenth)\n",
        "print(div)\n",
        "d=int(d)\n",
        "s=''\n",
        "for i in range(0,lenth):\n",
        "  temp=d//div\n",
        "  s+=str(temp)+','\n",
        "  d=d%div\n",
        "  div=div//10\n",
        "   \n",
        "print(s[0:len(s)-1]) \n",
        "#d='5648564'"
      ],
      "execution_count": null,
      "outputs": [
        {
          "output_type": "stream",
          "name": "stdout",
          "text": [
            "7\n",
            "1000000\n",
            "5,6,4,8,5,6,4\n"
          ]
        }
      ]
    },
    {
      "cell_type": "code",
      "metadata": {
        "colab": {
          "base_uri": "https://localhost:8080/"
        },
        "id": "TsVy2NY3jzmV",
        "outputId": "4f425607-91bf-44bd-cdc0-28ac9112d700"
      },
      "source": [
        "d = {'a': 100, 'b': 100, 'c': 200, 'd': 300}\n",
        "d_1 = {'a': 300, 'b': 200, 'd': 400,'e':200}\n",
        "\n",
        "\n",
        "d_2 = {}\n",
        " \n",
        "for i in d:\n",
        "    if i in d_1:\n",
        "        d_2[i] = d[i]+d_1[i]\n",
        "    elif i not in d_1:\n",
        "        d_2[i] = d[i]\n",
        "           \n",
        "for i in d_1:\n",
        "    if i not in d:\n",
        "        d_2[i] = d_1[i]\n",
        "        \n",
        "print(d_2)\n",
        "\n",
        "l = []\n",
        "\n",
        "for i in d_2.values():\n",
        "    if i not in l:\n",
        "        l.append(i)\n",
        "l.sort()\n",
        "print(tuple(l))"
      ],
      "execution_count": null,
      "outputs": [
        {
          "output_type": "stream",
          "name": "stdout",
          "text": [
            "{'a': 400, 'b': 300, 'c': 200, 'd': 700, 'e': 200}\n",
            "(200, 300, 400, 700)\n"
          ]
        }
      ]
    },
    {
      "cell_type": "code",
      "metadata": {
        "colab": {
          "base_uri": "https://localhost:8080/"
        },
        "id": "jFAXQ4CokktE",
        "outputId": "779b5054-4a25-4c82-b49b-210dd8ae25f7"
      },
      "source": [
        "store = []\n",
        "number = int(input(\"\"))\n",
        "\n",
        "while number != 0:\n",
        "  position = number%10\n",
        "  number = number//10\n",
        "  store.append(position)\n",
        "print(store)"
      ],
      "execution_count": null,
      "outputs": [
        {
          "output_type": "stream",
          "name": "stdout",
          "text": [
            "32768\n",
            "[8, 6, 7, 2, 3]\n"
          ]
        }
      ]
    },
    {
      "cell_type": "code",
      "metadata": {
        "id": "RlUfPaFVol_Q"
      },
      "source": [
        "s='baNgladEsh'\n",
        "st=-1\n",
        "en=-1\n",
        "for i in  range (len(s)):\n",
        "  if s[i]>='A' and s[i]<='Z':\n",
        "    st=i\n",
        "    break\n",
        "for i in  range (st+1,len(s)):\n",
        "  if s[i]>='A' and s[i]<='Z':\n",
        "    en=i\n",
        "    break \n",
        "if st!=-1 and en!=-1:\n",
        "  s1=''\n",
        "  for i in range (st+1,en):\n",
        "    s1+=s[i]\n",
        "  print(s1)\n",
        "else:\n",
        "  print('BLANK')"
      ],
      "execution_count": null,
      "outputs": []
    },
    {
      "cell_type": "code",
      "metadata": {
        "colab": {
          "base_uri": "https://localhost:8080/"
        },
        "id": "_aG0uQO5ompR",
        "outputId": "0ee9aed1-24fa-4f7e-f557-d0216cc4d3bb"
      },
      "source": [
        "l=[1,2,2,3]\n",
        "for i in range(len(l)-1 ,-1,-1):\n",
        "  print(i)\n",
        "   "
      ],
      "execution_count": null,
      "outputs": [
        {
          "output_type": "stream",
          "name": "stdout",
          "text": [
            "3\n",
            "2\n",
            "1\n",
            "0\n"
          ]
        }
      ]
    },
    {
      "cell_type": "code",
      "metadata": {
        "colab": {
          "base_uri": "https://localhost:8080/"
        },
        "id": "M8ezvHBOuYOo",
        "outputId": "5838d27b-066f-4b11-b06e-43cd4152e0ad"
      },
      "source": [
        "a=5\n",
        "if a%2!=0 and (a>=1 and a<=10):\n",
        "   \n",
        "   print('odd')"
      ],
      "execution_count": null,
      "outputs": [
        {
          "output_type": "stream",
          "name": "stdout",
          "text": [
            "odd\n"
          ]
        }
      ]
    },
    {
      "cell_type": "code",
      "metadata": {
        "id": "K7iKvbSivk5i"
      },
      "source": [
        "a=2.58\n",
        "#floor=2\n",
        "#cl=3\n"
      ],
      "execution_count": null,
      "outputs": []
    },
    {
      "cell_type": "code",
      "metadata": {
        "id": "qhsJE0Rq4yHN",
        "colab": {
          "base_uri": "https://localhost:8080/"
        },
        "outputId": "21f68379-85a3-4311-fd2b-47fc91334adb"
      },
      "source": [
        "lst =[]\n",
        "summ = 0\n",
        "num = int(input(\"Enter a Number : \"))\n",
        "for i in range(num):\n",
        "    num1 = input(\"Enter a Number : \").split()\n",
        "    lst1=[]\n",
        "    var=0\n",
        "    for j in num1:\n",
        "         \n",
        "        var+= int(j)\n",
        "    if var > summ:\n",
        "        summ=var\n",
        "        lst=lst1\n",
        "        for k in num1:\n",
        "          lst1.append(int(k))\n",
        "          #print(lst1)\n",
        "    \n",
        "   # print(lst)   \n",
        "print(summ)\n",
        "print(lst)"
      ],
      "execution_count": null,
      "outputs": [
        {
          "output_type": "stream",
          "name": "stdout",
          "text": [
            "Enter a Number : 4\n",
            "Enter a Number : 1 2 3\n",
            "Enter a Number : 4 5 6\n",
            "Enter a Number : 10 11 12\n",
            "Enter a Number : 7 8 9\n",
            "33\n",
            "[10, 11, 12]\n"
          ]
        }
      ]
    }
  ]
}
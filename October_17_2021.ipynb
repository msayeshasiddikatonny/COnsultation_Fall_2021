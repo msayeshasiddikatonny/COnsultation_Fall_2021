{
  "nbformat": 4,
  "nbformat_minor": 0,
  "metadata": {
    "colab": {
      "name": "October_17_2021.ipynb",
      "provenance": [],
      "authorship_tag": "ABX9TyNWCgx12ZB7aA3XWTKPN5RA",
      "include_colab_link": true
    },
    "kernelspec": {
      "name": "python3",
      "display_name": "Python 3"
    },
    "language_info": {
      "name": "python"
    }
  },
  "cells": [
    {
      "cell_type": "markdown",
      "metadata": {
        "id": "view-in-github",
        "colab_type": "text"
      },
      "source": [
        "<a href=\"https://colab.research.google.com/github/msayeshasiddikatonny/COnsultation_Fall_2021/blob/main/October_17_2021.ipynb\" target=\"_parent\"><img src=\"https://colab.research.google.com/assets/colab-badge.svg\" alt=\"Open In Colab\"/></a>"
      ]
    },
    {
      "cell_type": "code",
      "metadata": {
        "colab": {
          "base_uri": "https://localhost:8080/"
        },
        "id": "mLCoLjQq_mrp",
        "outputId": "9cb33c34-a477-4d8e-e16c-23e8874e3845"
      },
      "source": [
        "'''\n",
        "Again, you have lost your USIS password!! You went to the registrar office and\n",
        "requested for a new password. This time, you need to follow some rules to set your\n",
        "password. Otherwise, they won't change it. The rules are\n",
        "\n",
        "At least one lowercase letter(a-z)\n",
        "At least one uppercase letter(A-Z)\n",
        "At least one digit (0-9)\n",
        "At least one special character (_ , $ , #, @)\n",
        "\n",
        "\n",
        "Your task is to find whether a given password follows all those rules. If it breaks\n",
        "any rule, you have to print Lowercase Missing, Uppercase Missing, Digit Missing\n",
        "or Special Missing respective to the missing case. For more than one rule break,\n",
        "print all the rules that were broken (order doesn't matter). If the password is ok,\n",
        "print OK.\n",
        "'''\n",
        "\n",
        "s='OhMyBR@CU20'\n",
        "l=0\n",
        "u=0\n",
        "d=0\n",
        "sp=0\n",
        "for i in s:\n",
        "  if i>='a' and i<='z':\n",
        "     l=1\n",
        "  elif i>='A' and i<='Z':\n",
        "     u=1\n",
        "  elif  i in '0123456789':\n",
        "     d=1\n",
        "  elif  i in '_$#@':\n",
        "     sp=1  \n",
        "if l==0:\n",
        "  print(\"lowercase missing\")\n",
        "if u==0:\n",
        "  print(\"uppercase missing\")\n",
        "if d==0:\n",
        "  print(\"digit missing\")\n",
        "if sp==0:\n",
        "  print(\"specialc missing\")\n",
        "if l!=0 and u!=0 and d!=0 and sp!=0:\n",
        "  print('ok')\n"
      ],
      "execution_count": null,
      "outputs": [
        {
          "output_type": "stream",
          "name": "stdout",
          "text": [
            "ok\n"
          ]
        }
      ]
    },
    {
      "cell_type": "code",
      "metadata": {
        "colab": {
          "base_uri": "https://localhost:8080/"
        },
        "id": "QeStwTs_D_dZ",
        "outputId": "00a77192-99af-4b32-a30d-fb5c9a3f45e7"
      },
      "source": [
        "s='Hello, World!'\n",
        "s=s.lower()\n",
        "print(s)\n",
        "d={1:['.',',','?','!',':'],2:['a','b','c']}"
      ],
      "execution_count": null,
      "outputs": [
        {
          "output_type": "stream",
          "name": "stdout",
          "text": [
            "hello, world!\n"
          ]
        }
      ]
    },
    {
      "cell_type": "code",
      "metadata": {
        "colab": {
          "base_uri": "https://localhost:8080/"
        },
        "id": "Fn3ySjDMRAuU",
        "outputId": "93499500-b5c4-4c37-b83c-a9cab8d2f230"
      },
      "source": [
        "s='baNgladEsh'\n",
        "st=-1\n",
        "en=-1\n",
        "for i in  range (len(s)):\n",
        "  if s[i]>='A' and s[i]<='Z':\n",
        "    st=i\n",
        "    break\n",
        "for i in  range (st+1,len(s)):\n",
        "  if s[i]>='A' and s[i]<='Z':\n",
        "    en=i\n",
        "    break \n",
        "if st!=-1 and en!=-1:\n",
        "  s1=''\n",
        "  for i in range (st+1,en):\n",
        "    s1+=s[i]\n",
        "  print(s1)\n",
        "else:\n",
        "  print('BLANK')"
      ],
      "execution_count": null,
      "outputs": [
        {
          "output_type": "stream",
          "name": "stdout",
          "text": [
            "BLANK\n"
          ]
        }
      ]
    },
    {
      "cell_type": "code",
      "metadata": {
        "colab": {
          "base_uri": "https://localhost:8080/"
        },
        "id": "8u74HTNdcryg",
        "outputId": "4d1e3dd4-780d-4d2c-f8e1-9b9baa17b560"
      },
      "source": [
        "nm=  'ohbracu'\n",
        "\n",
        "lower= 0\n",
        "upper= 0 \n",
        "digit= 0\n",
        "special= 0\n",
        "for i in nm:\n",
        "    if i>='a' and i<='z':\n",
        "        lower=1\n",
        "    elif i>='A' and i<='Z':\n",
        "        upper= 1\n",
        "    elif i in '0123456789':\n",
        "        digit= 1\n",
        "    elif i in '_$#@':\n",
        "        special= 1\n",
        "s1=''\n",
        "if lower== 0:\n",
        "     s1+='Lowercase Missing ,'\n",
        "if upper==0:\n",
        "    s1+='Uppercase Missing ,'\n",
        "if digit== 0:\n",
        "    s1+='Digit Missing ,'\n",
        "if special== 0:\n",
        "    s1+='Special Character Missing ,'\n",
        "print(s1[0:len(s1)-1])\n",
        "if lower!=0 and upper!=0 and digit!=0 and special!=0:\n",
        "    print('Ok!')"
      ],
      "execution_count": null,
      "outputs": [
        {
          "output_type": "stream",
          "name": "stdout",
          "text": [
            "Uppercase Missing ,Digit Missing ,Special Character Missing \n"
          ]
        }
      ]
    },
    {
      "cell_type": "code",
      "metadata": {
        "colab": {
          "base_uri": "https://localhost:8080/"
        },
        "id": "EU7cqfU6eLKZ",
        "outputId": "e0eec03d-900a-4de4-f31b-cd017311af21"
      },
      "source": [
        "str5= 'dean'\n",
        "str6=  'tom'\n",
        "l=[]\n",
        "s=[]\n",
        "res= []\n",
        "for i in str5:\n",
        "    if i in str6:\n",
        "        l.append(i)\n",
        "for j in str6:\n",
        "    if j in str5:\n",
        "        s.append(j)\n",
        "res= l+s\n",
        " \n",
        "'''\n",
        "for q in res:\n",
        "    if q== q:\n",
        "        print(q,end='')\n",
        "    else:\n",
        "        print('BLANK')\n",
        "'''\n",
        "if len(res)>0:\n",
        "  for q in res:\n",
        "    print(q,end='')\n",
        "else:\n",
        "  print('Blank')"
      ],
      "execution_count": null,
      "outputs": [
        {
          "output_type": "stream",
          "name": "stdout",
          "text": [
            "[]\n",
            "Blank\n"
          ]
        }
      ]
    },
    {
      "cell_type": "code",
      "metadata": {
        "colab": {
          "base_uri": "https://localhost:8080/"
        },
        "id": "9IG00esaw5c1",
        "outputId": "1ad29cbf-00ec-41d9-a673-e3a193d992d2"
      },
      "source": [
        "dict1 = {1: '.,?!:', 2: 'ABC', 3: 'DEF', 4: 'GHI', 5: 'JKL', 6: 'MNO', 7: 'PQRS', 8: 'TUV', 9: 'WXYZ', 0: ' '}\n",
        "messege ='hello,world!'\n",
        "st = ''\n",
        "\n",
        "\n",
        "for i in messege:\n",
        "    for key, value in dict1.items():\n",
        "        if i in value:\n",
        "            count=0\n",
        "            for x in value:\n",
        "                if x!=i:\n",
        "                    count+=1\n",
        "                key = str(key)*count\n",
        "                st += (key)\n",
        "                count=0\n",
        "print(st)"
      ],
      "execution_count": null,
      "outputs": [
        {
          "output_type": "stream",
          "name": "stdout",
          "text": [
            "1111\n"
          ]
        }
      ]
    },
    {
      "cell_type": "code",
      "metadata": {
        "id": "NQQ-LdvOxL8d"
      },
      "source": [
        "dict1={\"1\":[\".\",\",\",\"?\",\"!\",\":\"], \"2\":[\"A\",\"B\",\"C\"], \"3\":[\"D\",\"E\",\"F\"], \"4\":[\"G\",\"H\",\"I\"], \"5\":[\"J\",\"K\",\"L\"], \"6\":[\"M\",\"N\",\"O\"], \"7\":[\"P\",\"Q\",\"R\",\"S\"], \"8\":[\"T\",\"U\",\"V\"],\n",
        "       \"9\":[\"W\",\"X\",\"Y\",\"Z\"], \"0\":[\" \"]}\n",
        "\n",
        "\n",
        "\n",
        "\n",
        "\n",
        "       "
      ],
      "execution_count": null,
      "outputs": []
    },
    {
      "cell_type": "code",
      "metadata": {
        "colab": {
          "base_uri": "https://localhost:8080/"
        },
        "id": "WW2By3dhxSRX",
        "outputId": "2bc2f704-ed7a-4ca4-b5b0-3d2ef7d77531"
      },
      "source": [
        "dict1 = {1: '.,?!:', 2: 'ABC', 3: 'DEF', 4: 'GHI', 5: 'JKL', 6: 'MNO', 7: 'PQRS', 8: 'TUV', 9: 'WXYZ', 0: ' '}\n",
        "messege = input().upper()\n",
        "st = ''\n",
        "\n",
        "\n",
        "for i in messege:\n",
        "    for key, value in dict1.items():\n",
        "        if i in value:\n",
        "          for j in range(len(value)):\n",
        "            if i==value[j]:\n",
        "             \n",
        "              for k in range(0,j+1):\n",
        "                key = str(key)\n",
        "                st += (key)\n",
        "                count=0\n",
        "print(st)"
      ],
      "execution_count": null,
      "outputs": [
        {
          "output_type": "stream",
          "name": "stdout",
          "text": [
            "hello\n",
            "4433555555666\n"
          ]
        }
      ]
    },
    {
      "cell_type": "code",
      "metadata": {
        "colab": {
          "base_uri": "https://localhost:8080/"
        },
        "id": "hnnpgdxp0p2-",
        "outputId": "df5d8696-2923-4b64-c2cb-3007c9014674"
      },
      "source": [
        "given_str = input()\n",
        "\n",
        "\n",
        "if 'too good' not in given_str:\n",
        "    print(given_str)\n",
        "else:\n",
        "    new_str = ''\n",
        "    x = given_str.split()\n",
        "    print(x)\n",
        "    for i in x:\n",
        "        if i!='too' or i!='good!':\n",
        "            new_str += i+' '\n",
        "        if i=='good!':\n",
        "            new_str+='excellent'+' '\n",
        "\n",
        "    print(new_str)"
      ],
      "execution_count": null,
      "outputs": [
        {
          "output_type": "stream",
          "name": "stdout",
          "text": [
            "The book is not too good!\n",
            "['The', 'book', 'is', 'not', 'too', 'good!']\n",
            "The book is not too good! excellent \n"
          ]
        }
      ]
    },
    {
      "cell_type": "code",
      "metadata": {
        "colab": {
          "base_uri": "https://localhost:8080/"
        },
        "id": "tJ8pgmRg1GGK",
        "outputId": "71ca954b-3534-4007-80bf-cb986880ddc2"
      },
      "source": [
        "s1 = input(\"Please, enter a sentence:\")\n",
        "too = s1.find('too')\n",
        "good = s1.find('good')\n",
        "if good > too:\n",
        "    s1 = s1.replace('too good', 'excellent')\n",
        "    print(s1)\n",
        "else:\n",
        "    print(s1)"
      ],
      "execution_count": null,
      "outputs": [
        {
          "output_type": "stream",
          "name": "stdout",
          "text": [
            "Please, enter a sentence:The book is not too good!\n",
            "The book is not excellent!\n"
          ]
        }
      ]
    },
    {
      "cell_type": "code",
      "metadata": {
        "colab": {
          "base_uri": "https://localhost:8080/"
        },
        "id": "TI6DgWIV2F7q",
        "outputId": "d0c6b470-1243-44d4-d312-c66d041679e1"
      },
      "source": [
        "given_str =  'The book is not too good!'\n",
        "sign=given_str[-1]\n",
        "print(sign)\n",
        "given_str =given_str [0:-1]\n",
        "print(given_str )\n",
        "if 'too good' not in given_str:\n",
        "    print(given_str)\n",
        "else:\n",
        "    new_str = ''\n",
        "    x = given_str.split()\n",
        "    print(x)\n",
        "    for i in range(0,len(x)) :\n",
        "        if x[i]!='too' :\n",
        "            new_str += x[i]+' '\n",
        "        else:\n",
        "\n",
        "          if x[i+1]=='good':\n",
        "              new_str+='excellent'+sign\n",
        "              break    \n",
        "    print(new_str)"
      ],
      "execution_count": null,
      "outputs": [
        {
          "output_type": "stream",
          "name": "stdout",
          "text": [
            "!\n",
            "The book is not too good\n",
            "['The', 'book', 'is', 'not', 'too', 'good']\n",
            "The book is not excellent!\n"
          ]
        }
      ]
    }
  ]
}
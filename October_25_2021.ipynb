{
  "nbformat": 4,
  "nbformat_minor": 0,
  "metadata": {
    "colab": {
      "name": "October_25_2021.ipynb",
      "provenance": [],
      "authorship_tag": "ABX9TyOg44UqcW+KpP+kUe3qFtnb",
      "include_colab_link": true
    },
    "kernelspec": {
      "name": "python3",
      "display_name": "Python 3"
    },
    "language_info": {
      "name": "python"
    }
  },
  "cells": [
    {
      "cell_type": "markdown",
      "metadata": {
        "id": "view-in-github",
        "colab_type": "text"
      },
      "source": [
        "<a href=\"https://colab.research.google.com/github/msayeshasiddikatonny/COnsultation_Fall_2021/blob/main/October_25_2021.ipynb\" target=\"_parent\"><img src=\"https://colab.research.google.com/assets/colab-badge.svg\" alt=\"Open In Colab\"/></a>"
      ]
    },
    {
      "cell_type": "code",
      "metadata": {
        "colab": {
          "base_uri": "https://localhost:8080/"
        },
        "id": "2bxQYiINYOqU",
        "outputId": "a5c5906f-3205-408c-fc07-699fc83659a5"
      },
      "source": [
        "var = []\n",
        "while True:\n",
        "    num = input(\"Enter a Number : \")\n",
        "    if num ==\"STOP\":\n",
        "        break\n",
        "    else:\n",
        "        var.append(int(num))\n",
        "'''         \n",
        "for i in range (len(var)):\n",
        "    var.count(i)\n",
        "    print(10)\n",
        "'''\n",
        "l1=[]\n",
        "for i in var:\n",
        "  if i not in l1:\n",
        "    l1.append(i)\n",
        "l2=[]\n",
        "c=0\n",
        "for i in l1:\n",
        "  for j in var:\n",
        "    if i==j:\n",
        "      c+=1\n",
        "  l2.append(c)\n",
        "  c=0\n",
        "print(l1)\n",
        "print(l2)"
      ],
      "execution_count": null,
      "outputs": [
        {
          "output_type": "stream",
          "name": "stdout",
          "text": [
            "Enter a Number : 10\n",
            "Enter a Number : 20\n",
            "Enter a Number : 20\n",
            "Enter a Number : 30\n",
            "Enter a Number : 10\n",
            "Enter a Number : 50\n",
            "Enter a Number : 90\n",
            "Enter a Number : STOP\n",
            "[10, 20, 30, 50, 90]\n",
            "[2, 2, 1, 1, 1]\n"
          ]
        }
      ]
    },
    {
      "cell_type": "code",
      "metadata": {
        "colab": {
          "base_uri": "https://localhost:8080/"
        },
        "id": "TQ0EytG85M2Z",
        "outputId": "4cc94590-811a-44bd-e866-e5be4f996a51"
      },
      "source": [
        "string =  'coDIng'\n",
        "s_1 = -1\n",
        "s_2 = -1\n",
        "\n",
        "for i in range(len(string)):\n",
        "    if string[i] >= \"A\" and string[i] <= \"Z\":\n",
        "        s_1 = i\n",
        "        break\n",
        "    \n",
        "for i in range(s_1+1,len(string)):\n",
        "    if string[i] >= \"A\" and string[i] <= \"Z\":\n",
        "        s_2 = i\n",
        "        break\n",
        "\n",
        "if s_1 != -1 and s_2 != -1:\n",
        "    x = \"\"\n",
        "    for i in range(s_1+1,s_2):\n",
        "        x += string[i]\n",
        "    print(x)\n",
        "    \n",
        "else:\n",
        "    print(\"BLANK\")"
      ],
      "execution_count": null,
      "outputs": [
        {
          "output_type": "stream",
          "name": "stdout",
          "text": [
            "\n"
          ]
        }
      ]
    },
    {
      "cell_type": "code",
      "metadata": {
        "colab": {
          "base_uri": "https://localhost:8080/"
        },
        "id": "Rio3OM-a6ucD",
        "outputId": "8af2d76a-2e3c-4882-afca-610d589bdbde"
      },
      "source": [
        "number_sequence=[]\n",
        "\n",
        "while True:\n",
        "    N=input(\"Enter: \")\n",
        "    if N==\"STOP\":\n",
        "        break\n",
        "    number_sequence.append(N)\n",
        "        \n",
        "for inpt in number_sequence:\n",
        "    inpt= [int(x) for x in inpt.split()]\n",
        "    ub_jumper = True\n",
        "    \n",
        "    for k in range(1,len(inpt)  ):\n",
        "      if abs(inpt[k-1]-inpt[k])<=(len(inpt)-1):\n",
        "       # if abs( [k+1] -  [k]) <= len(inpt) - 1:\n",
        "       pass\n",
        "      else:\n",
        "\n",
        "          ub_jumper = False\n",
        "          break\n",
        "            \n",
        "    if ub_jumper == True:\n",
        "        print('UB Jumper')\n",
        "    else:\n",
        "        print('Not UB Jumper')"
      ],
      "execution_count": null,
      "outputs": [
        {
          "output_type": "stream",
          "name": "stdout",
          "text": [
            "Enter: 1 4 2 -1 6\n",
            "Enter: STOP\n",
            "Not UB Jumper\n"
          ]
        }
      ]
    },
    {
      "cell_type": "code",
      "metadata": {
        "colab": {
          "base_uri": "https://localhost:8080/"
        },
        "id": "RUnuIvCY-Zq7",
        "outputId": "78ce8f7c-c418-4c36-9d14-9ff307a7a21d"
      },
      "source": [
        " s='this      is    cse    111'\n",
        " s='this is cse 111'\n",
        "\n",
        " l=[5,56,42]\n",
        " print(l)\n",
        "\n",
        "for i in l:\n",
        "  print(i)\n",
        "\n",
        "\n",
        "\n"
      ],
      "execution_count": null,
      "outputs": [
        {
          "output_type": "stream",
          "name": "stdout",
          "text": [
            "[5, 56, 42]\n",
            "5\n",
            "56\n",
            "42\n"
          ]
        }
      ]
    },
    {
      "cell_type": "code",
      "metadata": {
        "id": "w_Vz4C_z_oQw",
        "colab": {
          "base_uri": "https://localhost:8080/"
        },
        "outputId": "c00f390b-a894-42c6-d159-cfe33d135140"
      },
      "source": [
        "'''\n",
        "Task 6\n",
        "Write Python code of a program that reads an integer, and prints the integer if it is a multiple of either 2 OR 5.\n",
        "\n",
        "For example, 2, 4, 5, 6, 8, 10, 12, 14, 15, 16, 18, 20, 22 …\n",
        "\n",
        "==========================================================\n",
        "\n",
        "hint(1): use the modulus (%) operator for checking the divisibility\n",
        "\n",
        "hint(2): You can consider the number to be an integer\n",
        "\n",
        "==========================================================\n",
        "\n",
        "Example01:\n",
        "\n",
        "Input:\n",
        "5\n",
        "\n",
        "Output:\n",
        "5\n",
        "\n",
        "==========================================================\n",
        "\n",
        "Example02:\n",
        "\n",
        "Input:\n",
        "10\n",
        "\n",
        "Output:\n",
        "10\n",
        "\n",
        "==========================================================\n",
        "\n",
        "Example03:\n",
        "\n",
        "Input:\n",
        "3\n",
        "\n",
        "Output:\n",
        "Not a multiple\n",
        "'''\n",
        "n=10\n",
        "\n",
        "if n%2==0 or n%5==0:\n",
        "  print(n)\n",
        "else:\n",
        "  print('Not a multiple')"
      ],
      "execution_count": null,
      "outputs": [
        {
          "output_type": "stream",
          "name": "stdout",
          "text": [
            "10\n"
          ]
        }
      ]
    },
    {
      "cell_type": "code",
      "metadata": {
        "colab": {
          "base_uri": "https://localhost:8080/"
        },
        "id": "FrMSSKkdo1SE",
        "outputId": "e9aeccbb-f9f2-4217-c796-71b90ff0f626"
      },
      "source": [
        "'''\n",
        "Task 8\n",
        "Write Python code of a program that reads an integer, and prints the integer if it is a multiple of 2 and 5.\n",
        "\n",
        "==========================================================\n",
        "\n",
        "For example, 10, 20, 30, 40, 50 …\n",
        "\n",
        "hint(1): use the modulus (%) operator for checking the divisibility\n",
        "\n",
        "hint(2): You can consider the number to be an integer\n",
        "\n",
        "==========================================================\n",
        "\n",
        "Example01:\n",
        "\n",
        "Input:\n",
        "5\n",
        "\n",
        "Output:\n",
        "Not multiple of 2 and 5 both\n",
        "\n",
        "==========================================================\n",
        "\n",
        "Example02:\n",
        "\n",
        "Input:\n",
        "40\n",
        "\n",
        "Output:\n",
        "40\n",
        "\n",
        "==========================================================\n",
        "\n",
        "Example03:\n",
        "\n",
        "Input:\n",
        "50\n",
        "\n",
        "Output:\n",
        "50\n",
        "\n",
        "==========================================================\n",
        "\n",
        "Example04:\n",
        "\n",
        "Input:\n",
        "44\n",
        "\n",
        "Output:\n",
        "Not multiple of 2 and 5 both\n",
        "'''\n",
        "n=44\n",
        "\n",
        "if n%2==0 and n%5==0:\n",
        "  print(n)\n",
        "else:\n",
        "  print('Not multiple of 2 and 5 both')"
      ],
      "execution_count": null,
      "outputs": [
        {
          "output_type": "stream",
          "name": "stdout",
          "text": [
            "Not multiple of 2 and 5 both\n"
          ]
        }
      ]
    },
    {
      "cell_type": "code",
      "metadata": {
        "colab": {
          "base_uri": "https://localhost:8080/"
        },
        "id": "tRrOruntpRNt",
        "outputId": "e2f2f55c-4f7b-45b7-d1fc-9269ff457ec2"
      },
      "source": [
        "a=-10\n",
        "b=7\n",
        "if  b>a:\n",
        "  print('b greater thn a')\n",
        "if b>0:\n",
        "  print('b greater thn 0')\n",
        "if b<0:\n",
        "  print('checking nothing')\n",
        "#if elif  elif else"
      ],
      "execution_count": null,
      "outputs": [
        {
          "output_type": "stream",
          "name": "stdout",
          "text": [
            "b greater thn a\n",
            "b greater thn 0\n"
          ]
        }
      ]
    },
    {
      "cell_type": "code",
      "metadata": {
        "colab": {
          "base_uri": "https://localhost:8080/"
        },
        "id": "KvTTYTFfrz0C",
        "outputId": "5c761b61-c79e-4ddd-cd4c-e9750c317344"
      },
      "source": [
        "#a: 100, b: 100, c: 200, d: 300\n",
        "s='a: 100, b: 100, c: 200, d: 300'\n",
        "s=s.split(',')\n",
        "print(s)\n",
        "d={}\n",
        "for i in s:\n",
        "  x,y=i.split(':')\n",
        "  d[x]=int(y)\n",
        "print(d)"
      ],
      "execution_count": null,
      "outputs": [
        {
          "output_type": "stream",
          "name": "stdout",
          "text": [
            "['a: 100', ' b: 100', ' c: 200', ' d: 300']\n",
            "{'a': 100, ' b': 100, ' c': 200, ' d': 300}\n"
          ]
        }
      ]
    },
    {
      "cell_type": "code",
      "metadata": {
        "colab": {
          "base_uri": "https://localhost:8080/"
        },
        "id": "Bziyn5BrxRxF",
        "outputId": "7afe19a5-a2ed-4dd0-bc22-82f6fed517de"
      },
      "source": [
        " \n",
        "l = []\n",
        "counter = 0\n",
        "while True:\n",
        "    s = input()\n",
        "    #l.append(s)\n",
        "    if s == \"STOP\":\n",
        "         \n",
        "        break\n",
        "    else:\n",
        "      l.append(int(s))\n",
        " \n",
        "#counter = 0\n",
        "#l=[10,20,20,10,30,50,90]\n",
        "l1=[]\n",
        "for i in l:\n",
        "  if i not in l1:\n",
        "    l1.append(i)\n",
        "#print(l)\n",
        "#print(l1)\n",
        "l2=[]#counter\n",
        "for i in range (len(l1))  :\n",
        "    for j in  range (len(l)):\n",
        "        if l1[i] ==l[j]:\n",
        "            counter += 1\n",
        "            print(i)\n",
        "\n",
        "    l2.append(counter)\n",
        "    counter=0\n",
        "\n",
        "for i in range (len(l1)):\n",
        "  print(l1[i],'-',l2[i],'times')"
      ],
      "execution_count": null,
      "outputs": [
        {
          "output_type": "stream",
          "name": "stdout",
          "text": [
            "10\n",
            "20\n",
            "10\n",
            "STOP\n",
            "0\n",
            "0\n",
            "1\n",
            "10 - 2 times\n",
            "20 - 1 times\n"
          ]
        }
      ]
    },
    {
      "cell_type": "code",
      "metadata": {
        "colab": {
          "base_uri": "https://localhost:8080/"
        },
        "id": "3wMrv8UU7su4",
        "outputId": "32e74639-33b5-49ec-a650-1f85f6a918ed"
      },
      "source": [
        "s='The book is not too good!'\n",
        "sign=s[-1]\n",
        "print(sign)\n",
        "s=s[0:-1]\n",
        "print(s)\n",
        "s=s.split()\n",
        "print(s)\n",
        "s1=''\n",
        "for i in range(len(s)):\n",
        "  if s[i]!='too':\n",
        "    s1+=s[i]+' '\n",
        "  else:\n",
        "    if s[i+1]=='good':\n",
        "      s1+='excellent'\n",
        "      break\n",
        "\n",
        "print(s1+sign)"
      ],
      "execution_count": null,
      "outputs": [
        {
          "output_type": "stream",
          "name": "stdout",
          "text": [
            "!\n",
            "The book is not too good\n",
            "['The', 'book', 'is', 'not', 'too', 'good']\n",
            "The book is not excellent!\n"
          ]
        }
      ]
    },
    {
      "cell_type": "code",
      "metadata": {
        "colab": {
          "base_uri": "https://localhost:8080/"
        },
        "id": "yxHUt1Ek9tHC",
        "outputId": "0cde832d-c072-408a-82a2-8a46ac8c0865"
      },
      "source": [
        "'''\n",
        "2. Given a string, print whether it is a number, word or mixed with digit and letters.\n",
        "If all the characters are numeric values, print NUMBER. If they are all letters, print\n",
        "WORD. If it is mixed, print MIXED.\n",
        "213213 NUMBER\n",
        "jhg231j213 MIXED\n",
        "Hello WORD\n",
        "'''\n",
        "user_input=  '1464'\n",
        "num=\"1234567890\"\n",
        "w=False\n",
        "n=False\n",
        " \n",
        "\n",
        "for i in user_input:\n",
        "   # continue\n",
        "  if ((ord(i) >= 65 and ord(i) <= 90) or (ord(i)>=97 and ord(i)<=122))  :\n",
        "        w=True\n",
        "        #print(\"WORD\")\n",
        "#if ((ord(i) >= 65 and ord(i) <= 90) or (ord(i)>=97 and ord(i)<=122)) and i in num:\n",
        "        #print(\"MIXED\")\n",
        "#if i in num and not((ord(i) >= 65 and ord(i) <= 90) or (ord(i)>=97 and ord(i)<=122)):\n",
        "  if i in num:\n",
        "        n=True\n",
        "        #print(\"NUMBER\")\n",
        " \n",
        "if w==True and n==True:\n",
        "  print(\"MIXED\")\n",
        "elif w==True:\n",
        "  print(\"WORD\")\n",
        "elif n==True:\n",
        "  print(\"NUMBER\")"
      ],
      "execution_count": null,
      "outputs": [
        {
          "output_type": "stream",
          "name": "stdout",
          "text": [
            "NUMBER\n"
          ]
        }
      ]
    }
  ]
}
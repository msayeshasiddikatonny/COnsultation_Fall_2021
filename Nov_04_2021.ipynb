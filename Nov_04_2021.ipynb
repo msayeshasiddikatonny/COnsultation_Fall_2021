{
  "nbformat": 4,
  "nbformat_minor": 0,
  "metadata": {
    "colab": {
      "name": "Nov_04_2021.ipynb",
      "provenance": [],
      "authorship_tag": "ABX9TyND8xFcD+g5rEnqpwkOus+/",
      "include_colab_link": true
    },
    "kernelspec": {
      "name": "python3",
      "display_name": "Python 3"
    },
    "language_info": {
      "name": "python"
    }
  },
  "cells": [
    {
      "cell_type": "markdown",
      "metadata": {
        "id": "view-in-github",
        "colab_type": "text"
      },
      "source": [
        "<a href=\"https://colab.research.google.com/github/msayeshasiddikatonny/COnsultation_Fall_2021/blob/main/Nov_04_2021.ipynb\" target=\"_parent\"><img src=\"https://colab.research.google.com/assets/colab-badge.svg\" alt=\"Open In Colab\"/></a>"
      ]
    },
    {
      "cell_type": "code",
      "metadata": {
        "colab": {
          "base_uri": "https://localhost:8080/"
        },
        "id": "60VTMCByQj6e",
        "outputId": "1ec43146-f2bf-43f2-d7a0-00a6a12e1a16"
      },
      "source": [
        "#Todo\n",
        "divisor_count=0\n",
        "number=int(input(\"Enter the number: \"))\n",
        "for i in range(1,number+1):\n",
        "    if number%i==0:\n",
        "        print(i,end=\",\")\n",
        "        divisor_count+=1\n",
        "print()\n",
        "print(\"Total\",divisor_count,\"divisors\")"
      ],
      "execution_count": null,
      "outputs": [
        {
          "output_type": "stream",
          "name": "stdout",
          "text": [
            "Enter the number: 121\n",
            "1,11,121,\n",
            "Total 3 divisors\n"
          ]
        }
      ]
    },
    {
      "cell_type": "code",
      "metadata": {
        "colab": {
          "base_uri": "https://localhost:8080/"
        },
        "id": "SBMAZ8awRBUj",
        "outputId": "9bd06df9-392f-4f4d-c33a-5711af48f41a"
      },
      "source": [
        "#Todo\n",
        "divisor_count=0\n",
        "number=int(input(\"Enter the number: \"))\n",
        " \n",
        "for i in range(1,number+1):\n",
        "    if number%i==0:\n",
        "      if i!=number:\n",
        "        print(i,end=\",\")\n",
        "      else:\n",
        "        print(i )\n",
        "      divisor_count+=1\n",
        " \n",
        "print(\"Total\",divisor_count,\"divisors\")"
      ],
      "execution_count": null,
      "outputs": [
        {
          "output_type": "stream",
          "name": "stdout",
          "text": [
            "Enter the number: 121\n",
            "1,11,121\n",
            "Total 3 divisors\n"
          ]
        }
      ]
    },
    {
      "cell_type": "code",
      "metadata": {
        "colab": {
          "base_uri": "https://localhost:8080/"
        },
        "id": "z6NOvBskYjq0",
        "outputId": "b7344b37-d21f-4155-83b7-972db3ea1ea6"
      },
      "source": [
        "#Todo\n",
        "a=0\n",
        " \n",
        "number=int(input(\"Enter a number: \"))\n",
        "for i in range(1,number): \n",
        "    if number%i==0:\n",
        "        a+=i\n",
        "if a==number:\n",
        "  print('perfect')  \n",
        "else:\n",
        "    print(' not perfect')      "
      ],
      "execution_count": null,
      "outputs": [
        {
          "output_type": "stream",
          "name": "stdout",
          "text": [
            "Enter a number: 28\n",
            "perfect\n"
          ]
        }
      ]
    },
    {
      "cell_type": "code",
      "metadata": {
        "colab": {
          "base_uri": "https://localhost:8080/"
        },
        "id": "ztM_K-wzZQya",
        "outputId": "16f30e85-368b-45bb-911a-7a75b97500e4"
      },
      "source": [
        "for i in range(1,10):\n",
        "  print(i)"
      ],
      "execution_count": null,
      "outputs": [
        {
          "output_type": "stream",
          "name": "stdout",
          "text": [
            "1\n",
            "2\n",
            "3\n",
            "4\n",
            "5\n",
            "6\n",
            "7\n",
            "8\n",
            "9\n"
          ]
        }
      ]
    },
    {
      "cell_type": "code",
      "metadata": {
        "colab": {
          "base_uri": "https://localhost:8080/"
        },
        "id": "qpLXTin5b5E4",
        "outputId": "47567d5a-816b-4ef9-baa6-ad6739ba6cd8"
      },
      "source": [
        "def name_vowel(a):\n",
        "    l = []\n",
        "    for i in a:\n",
        "        if i in \"aeiouAEIOU\":\n",
        "            l.append(i)\n",
        "\n",
        "    \n",
        "    \n",
        "    if len(l)==0:\n",
        "        print(\"No vowels in the name\")\n",
        "    else:\n",
        "        x = \"\"\n",
        "        for i in l:\n",
        "            x += i +','\n",
        "        x=x[0:-1]\n",
        "        print(\"Vowels\",\":\",x,\".\",\"Total number of vowels:\",len(l))\n",
        "    \n",
        "name_vowel(\"Steve Jobs\") "
      ],
      "execution_count": null,
      "outputs": [
        {
          "output_type": "stream",
          "name": "stdout",
          "text": [
            "Vowels : e,e,o . Total number of vowels: 3\n"
          ]
        }
      ]
    },
    {
      "cell_type": "code",
      "metadata": {
        "colab": {
          "base_uri": "https://localhost:8080/"
        },
        "id": "JBddgppichuD",
        "outputId": "ea13db2d-064c-4f04-8c9f-727160e04dab"
      },
      "source": [
        "def palindrom(a):\n",
        "    l = []\n",
        "    for i in a:\n",
        "        if i!=\" \":\n",
        "            l.append(i)\n",
        "    print(l)\n",
        "    l_1 = []\n",
        "    for i in range(len(l)-1,-1,-1):\n",
        "        l_1.append(l[i])\n",
        "    print(l_1)\n",
        "    if l == l_1:\n",
        "        print(\"Palindrome\")\n",
        "    else:\n",
        "        print(\"Not a palindrome\")\n",
        "s=input('enter a word : ')\n",
        "palindrom(s)"
      ],
      "execution_count": null,
      "outputs": [
        {
          "output_type": "stream",
          "name": "stdout",
          "text": [
            "enter a word : hello\n",
            "['h', 'e', 'l', 'l', 'o']\n",
            "['o', 'l', 'l', 'e', 'h']\n",
            "Not a palindrome\n"
          ]
        }
      ]
    },
    {
      "cell_type": "code",
      "metadata": {
        "id": "Nqy0KiNHdJDA",
        "outputId": "6f6682ca-c831-4476-fd6c-bb54c9efd8c5",
        "colab": {
          "base_uri": "https://localhost:8080/",
          "height": 129
        }
      },
      "source": [
        "'''\n",
        "('my favourite animal is a dog. a dog has sharp teeth so \n",
        "that it can eat flesh very easily.\n",
        "do you know my pet dog’s name? i love my pet very much. and i love bracu.')\n",
        "'''\n",
        "for x in  range(0,len(s)):#s[x]=i\n",
        "      if s[x-1]==\" \" and s[x+1]==\" \":\n"
      ],
      "execution_count": 1,
      "outputs": [
        {
          "output_type": "error",
          "ename": "SyntaxError",
          "evalue": "ignored",
          "traceback": [
            "\u001b[0;36m  File \u001b[0;32m\"<ipython-input-1-84c52bfd47c2>\"\u001b[0;36m, line \u001b[0;32m7\u001b[0m\n\u001b[0;31m    if s[x-1]==\" \" and s[x+1]==\" \":\u001b[0m\n\u001b[0m                                   ^\u001b[0m\n\u001b[0;31mSyntaxError\u001b[0m\u001b[0;31m:\u001b[0m unexpected EOF while parsing\n"
          ]
        }
      ]
    },
    {
      "cell_type": "code",
      "metadata": {
        "colab": {
          "base_uri": "https://localhost:8080/"
        },
        "id": "KtB4HDhwfB_w",
        "outputId": "a004498e-7f83-42a6-b62b-173aceea2fb9"
      },
      "source": [
        "def func(snack,place='Mohakhali'):\n",
        "    total=0\n",
        "    if snack=='BBQ Chicken Cheese Burger':\n",
        "        total+=250\n",
        "    if snack=='Beef Burger':\n",
        "        total+=170\n",
        "    if snack=='Naga Drums':\n",
        "        total+=200\n",
        "    total=total+(total/100*8)\n",
        "    if place=='Mohakhali':\n",
        "        total+=40\n",
        "    else:\n",
        "        total+=60\n",
        "    return total\n",
        "st = input()[1:-1].split(',')\n",
        "if len(st)==1:\n",
        "    print(func(st[0][1:-1]))\n",
        "else:\n",
        "    print(func(st[0][1:-1],st[1][1:-1]))"
      ],
      "execution_count": null,
      "outputs": [
        {
          "output_type": "stream",
          "name": "stdout",
          "text": [
            "(‘Beef Burger’)\n",
            "223.6\n"
          ]
        }
      ]
    },
    {
      "cell_type": "code",
      "metadata": {
        "colab": {
          "base_uri": "https://localhost:8080/"
        },
        "id": "-ySqQqONf0NC",
        "outputId": "53f24dd3-fa82-4f7c-811f-a66cdf57c93a"
      },
      "source": [
        "#Todo\n",
        "divisor=0\n",
        "number=int(input(\"Enter a number: \"))\n",
        "for counter in range(1,number+1):\n",
        "    if number%counter==0:\n",
        "        divisor+=1\n",
        "if divisor==2:\n",
        "    print(number,\"is a prime number\")\n",
        "else:\n",
        "    print(number,\"is not a prime number\")"
      ],
      "execution_count": null,
      "outputs": [
        {
          "output_type": "stream",
          "name": "stdout",
          "text": [
            "Enter a number: 6\n",
            "6 is not a prime number\n"
          ]
        }
      ]
    },
    {
      "cell_type": "code",
      "metadata": {
        "colab": {
          "base_uri": "https://localhost:8080/"
        },
        "id": "3OWpVnmyqxS4",
        "outputId": "2574a7cb-d578-4008-a3b5-abac877e8007"
      },
      "source": [
        "def capital(a):\n",
        "    s=''\n",
        "    s+=a[0].upper()\n",
        "    for i in range(1,len(a)-1):   \n",
        "        \n",
        "        if a[i-1]==\" \" and a[i+1]==\" \" and a[i]==\"i\":\n",
        "            s+=a[i].upper()\n",
        "        elif a[i]==\".\" or a[i]==\"!\" or a[i]==\"?\":\n",
        "            s+=a[i]\n",
        "            s+=a[i+1].upper()\n",
        "            i += 1\n",
        "        else:\n",
        "          if a[i-1] not in \"!.?\":\n",
        "            s+=a[i] \n",
        "    print(s)\n",
        "capital(\"my favourite animal is a dog.a dog has i sharp teeth so that.\") "
      ],
      "execution_count": null,
      "outputs": [
        {
          "output_type": "stream",
          "name": "stdout",
          "text": [
            "My favourite animal is a dog.A dog has I sharp teeth so that\n"
          ]
        }
      ]
    },
    {
      "cell_type": "code",
      "metadata": {
        "colab": {
          "base_uri": "https://localhost:8080/"
        },
        "id": "qVTw4IeYg6Fs",
        "outputId": "60f50856-9431-4b14-d744-5961149cbcbf"
      },
      "source": [
        "import math\n",
        "sum=0\n",
        "number=int(input(\"Enter a number: \"))\n",
        "#factorial=0\n",
        "if number<0:\n",
        "    print(\"Invalid input\")\n",
        "    print(\"End program\")\n",
        "elif number==1:\n",
        "  print(1)\n",
        "else:\n",
        "    for i in range(1,number+1):\n",
        "      f=1\n",
        "      for j in range(1,i+1):\n",
        "        f=f*j\n",
        "      if i %2==0:\n",
        "          sum-=f\n",
        "          #print(sum,i) \n",
        "      else:\n",
        "          sum+=f\n",
        "          #print(sum,i) \n",
        "    print(sum) \n",
        " \n",
        "\n",
        "    #3!=3*2*1"
      ],
      "execution_count": null,
      "outputs": [
        {
          "output_type": "stream",
          "name": "stdout",
          "text": [
            "Enter a number: 11\n",
            "36614981\n"
          ]
        }
      ]
    },
    {
      "cell_type": "code",
      "metadata": {
        "id": "-_83ODsahg1t"
      },
      "source": [
        "''''\n",
        "𝗤𝘂𝗲𝘀𝘁𝗶𝗼𝗻:\n",
        "Write a Python program that takes the value of n from the user and \n",
        "calculates the value of S using the following equation:\n",
        "S = 1! - 2! + 3! - 4! + 5! - 6! + ……..  n!\n",
        "Here, the value of n should be a positive (n>0) integer. If the user gives \n",
        "a negative input or zero, then print “Invalid Input!”. Also, print the \n",
        "sentence “End of program.” in the last line no matter what the input is.\n",
        "---------------------------------------------------------------------\n",
        "Sample Input 1:\n",
        "4\n",
        "Sample Output 1:\n",
        "Value of S is: -19\n",
        "End of program.\n",
        "---------------------------------------------------------------------\n",
        "Sample Input 2:\n",
        "11\n",
        "Sample Output 2:\n",
        "The value of S is: 36614981\n",
        "End of program.\n",
        "---------------------------------------------------------------------\n",
        "Sample Input 3:\n",
        "-4\n",
        "Sample Output 3:\n",
        "Invalid Input!\n",
        "End of program.\n",
        "'''"
      ],
      "execution_count": null,
      "outputs": []
    },
    {
      "cell_type": "code",
      "metadata": {
        "colab": {
          "base_uri": "https://localhost:8080/"
        },
        "id": "x5BoGCTYj_x7",
        "outputId": "acc2877f-0236-4370-fe6d-4b2c6529c059"
      },
      "source": [
        "f=1\n",
        "f=f*3\n",
        "print(f)\n",
        "#6!=1*2*3*4*5*6"
      ],
      "execution_count": null,
      "outputs": [
        {
          "output_type": "stream",
          "name": "stdout",
          "text": [
            "0\n"
          ]
        }
      ]
    }
  ]
}
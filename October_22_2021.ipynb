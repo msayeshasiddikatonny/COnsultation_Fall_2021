{
  "nbformat": 4,
  "nbformat_minor": 0,
  "metadata": {
    "colab": {
      "name": "October_22_2021.ipynb",
      "provenance": [],
      "authorship_tag": "ABX9TyMEpeE2DqRJuIjPXle5e1km",
      "include_colab_link": true
    },
    "kernelspec": {
      "name": "python3",
      "display_name": "Python 3"
    },
    "language_info": {
      "name": "python"
    }
  },
  "cells": [
    {
      "cell_type": "markdown",
      "metadata": {
        "id": "view-in-github",
        "colab_type": "text"
      },
      "source": [
        "<a href=\"https://colab.research.google.com/github/msayeshasiddikatonny/COnsultation_Fall_2021/blob/main/October_22_2021.ipynb\" target=\"_parent\"><img src=\"https://colab.research.google.com/assets/colab-badge.svg\" alt=\"Open In Colab\"/></a>"
      ]
    },
    {
      "cell_type": "code",
      "metadata": {
        "colab": {
          "base_uri": "https://localhost:8080/"
        },
        "id": "5VojnSUNQ-Iq",
        "outputId": "9c057a5b-f4a9-41d8-dbe8-61d4b3b2d9ad"
      },
      "source": [
        "dict1 = {'a': 100, 'b': 100, 'c':200, 'd':300}\n",
        "\n",
        "dict2 = {'a': 300, 'b': 200, 'd':400, 'e': 200}\n",
        "dict3 = dict(dict1) \n",
        "\n",
        "dict3.update(dict2) \n",
        "\n",
        "for key,value in dict1.items():\n",
        "    for key1,value1 in dict2.items():\n",
        "        if key == key1:\n",
        "            dict3[key] = value + value1\n",
        "\n",
        "print(dict3)\n",
        "\n",
        "list1 = []\n",
        "\n",
        "for value2 in dict3.values():\n",
        "    if value2 not in list1:\n",
        "        list1.append(value2)\n",
        "    \n",
        "list2 = sorted(list1)\n",
        "tup = tuple(list2)\n",
        "print(\"Values:\",tup)"
      ],
      "execution_count": null,
      "outputs": [
        {
          "output_type": "stream",
          "name": "stdout",
          "text": [
            "{'a': 400, 'b': 300, 'c': 200, 'd': 700, 'e': 200}\n",
            "Values: (200, 300, 400, 700)\n"
          ]
        }
      ]
    },
    {
      "cell_type": "code",
      "metadata": {
        "colab": {
          "base_uri": "https://localhost:8080/"
        },
        "id": "Pw9KKYsFRq-m",
        "outputId": "8d858abe-5279-460d-9886-f1d93616e242"
      },
      "source": [
        "dict1 = {'a': 100, 'b': 100, 'c':200, 'd':300}\n",
        "\n",
        "dict2 = {'a': 300, 'b': 200, 'd':400, 'e': 200}\n",
        "dict_n={}\n",
        "for i in dict1:\n",
        "  if i not in dict_n:\n",
        "    dict_n[i]=dict1[i]\n",
        "  else:\n",
        "    dict_n[i]+=dict1[i]\n",
        "for i in dict2:\n",
        "  if i not in dict_n:\n",
        "    dict_n[i]=dict2[i]\n",
        "  else:\n",
        "    dict_n[i]+=dict2[i]\n",
        "print(dict_n)\n"
      ],
      "execution_count": null,
      "outputs": [
        {
          "output_type": "stream",
          "name": "stdout",
          "text": [
            "{'a': 400, 'b': 300, 'c': 200, 'd': 700, 'e': 200}\n"
          ]
        }
      ]
    },
    {
      "cell_type": "code",
      "metadata": {
        "colab": {
          "base_uri": "https://localhost:8080/"
        },
        "id": "HAN0aS9LXWP5",
        "outputId": "3de84101-f07f-410c-c67c-14530bf1fd41"
      },
      "source": [
        "dict1 = {'a': 100, 'b': 100, 'c':200, 'd':300}\n",
        "dict2 = {'a': 300, 'b': 200, 'd':400, 'e': 200}\n",
        "d={}\n",
        "for i in dict1:\n",
        "    if i in d:\n",
        "      d[i]+=dict1[i]\n",
        "    else :\n",
        "      d[i]=dict1[i]\n",
        "\n",
        "for i in dict2:\n",
        "    if i in d:\n",
        "      d[i]+=dict2[i]\n",
        "    else :\n",
        "      d[i]=dict2[i]\n",
        "print(d)\n"
      ],
      "execution_count": null,
      "outputs": [
        {
          "output_type": "stream",
          "name": "stdout",
          "text": [
            "{'a': 400, 'b': 300, 'c': 200, 'd': 700, 'e': 200}\n"
          ]
        }
      ]
    },
    {
      "cell_type": "code",
      "metadata": {
        "colab": {
          "base_uri": "https://localhost:8080/"
        },
        "id": "I3Ae6GU7Z77s",
        "outputId": "78b8cfde-28a7-4f50-9aad-39bef39cca3c"
      },
      "source": [
        "s='evil'\n",
        "s1='livee'\n",
        "f=1\n",
        "if len(s)==len(s1):\n",
        "   for i in s:\n",
        "     if i in s1:\n",
        "       pass\n",
        "     else:\n",
        "       f=0\n",
        "       break\n",
        "\n",
        "\n",
        "   for i in s1:\n",
        "     if i in s:\n",
        "       pass\n",
        "     else:\n",
        "      f=0\n",
        "      break\n",
        "  \n",
        "\n",
        "else:\n",
        "  f=0\n",
        "if f==1:\n",
        "  print('yes')\n",
        "else:\n",
        "  print('no')\n",
        "\n"
      ],
      "execution_count": null,
      "outputs": [
        {
          "output_type": "stream",
          "name": "stdout",
          "text": [
            "no\n"
          ]
        }
      ]
    },
    {
      "cell_type": "code",
      "metadata": {
        "colab": {
          "base_uri": "https://localhost:8080/"
        },
        "id": "Qa0wHq3xhqIK",
        "outputId": "3b8ab5f1-8a90-43a8-935d-11cd0e64da16"
      },
      "source": [
        "s='a: 100, b: 100, c: 200, d: 300'\n",
        "s=s.split(',')\n",
        "#print(s)\n",
        "d={}\n",
        "for i in s:\n",
        "  x,y=i.split(':')\n",
        "  d[x]=int(y)\n",
        "  '''\n",
        "  print(x)\n",
        "  print(y)\n",
        "  '''\n",
        "print(d)"
      ],
      "execution_count": null,
      "outputs": [
        {
          "output_type": "stream",
          "name": "stdout",
          "text": [
            "{'a': 100, ' b': 100, ' c': 200, ' d': 300}\n"
          ]
        }
      ]
    }
  ]
}